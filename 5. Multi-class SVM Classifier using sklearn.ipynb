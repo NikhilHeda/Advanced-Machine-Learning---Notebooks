{
 "cells": [
  {
   "cell_type": "markdown",
   "metadata": {},
   "source": [
    "## Library imports"
   ]
  },
  {
   "cell_type": "code",
   "execution_count": 1,
   "metadata": {
    "collapsed": true
   },
   "outputs": [],
   "source": [
    "import numpy as np\n",
    "import pandas as pd\n",
    "from sklearn import svm\n",
    "import matplotlib.pyplot as plt\n",
    "\n",
    "%matplotlib inline"
   ]
  },
  {
   "cell_type": "markdown",
   "metadata": {},
   "source": [
    "## Loading dataset into pandas dataframe"
   ]
  },
  {
   "cell_type": "code",
   "execution_count": 2,
   "metadata": {},
   "outputs": [
    {
     "data": {
      "text/html": [
       "<div>\n",
       "<style>\n",
       "    .dataframe thead tr:only-child th {\n",
       "        text-align: right;\n",
       "    }\n",
       "\n",
       "    .dataframe thead th {\n",
       "        text-align: left;\n",
       "    }\n",
       "\n",
       "    .dataframe tbody tr th {\n",
       "        vertical-align: top;\n",
       "    }\n",
       "</style>\n",
       "<table border=\"1\" class=\"dataframe\">\n",
       "  <thead>\n",
       "    <tr style=\"text-align: right;\">\n",
       "      <th></th>\n",
       "      <th>x1</th>\n",
       "      <th>x2</th>\n",
       "      <th>y</th>\n",
       "    </tr>\n",
       "  </thead>\n",
       "  <tbody>\n",
       "    <tr>\n",
       "      <th>0</th>\n",
       "      <td>1.0</td>\n",
       "      <td>6.0</td>\n",
       "      <td>1</td>\n",
       "    </tr>\n",
       "    <tr>\n",
       "      <th>1</th>\n",
       "      <td>1.0</td>\n",
       "      <td>7.0</td>\n",
       "      <td>1</td>\n",
       "    </tr>\n",
       "    <tr>\n",
       "      <th>2</th>\n",
       "      <td>2.0</td>\n",
       "      <td>5.0</td>\n",
       "      <td>1</td>\n",
       "    </tr>\n",
       "    <tr>\n",
       "      <th>3</th>\n",
       "      <td>2.0</td>\n",
       "      <td>8.0</td>\n",
       "      <td>1</td>\n",
       "    </tr>\n",
       "    <tr>\n",
       "      <th>4</th>\n",
       "      <td>4.0</td>\n",
       "      <td>2.0</td>\n",
       "      <td>2</td>\n",
       "    </tr>\n",
       "  </tbody>\n",
       "</table>\n",
       "</div>"
      ],
      "text/plain": [
       "    x1   x2  y\n",
       "0  1.0  6.0  1\n",
       "1  1.0  7.0  1\n",
       "2  2.0  5.0  1\n",
       "3  2.0  8.0  1\n",
       "4  4.0  2.0  2"
      ]
     },
     "execution_count": 2,
     "metadata": {},
     "output_type": "execute_result"
    }
   ],
   "source": [
    "data = pd.read_csv('multi_class_svm.csv', names=['x1', 'x2', 'y'])\n",
    "data.head()"
   ]
  },
  {
   "cell_type": "markdown",
   "metadata": {},
   "source": [
    "## defining x and y"
   ]
  },
  {
   "cell_type": "code",
   "execution_count": 3,
   "metadata": {},
   "outputs": [],
   "source": [
    "x = data[['x1', 'x2']]\n",
    "\n",
    "y_1 = data.y.where(data.y == 1, other=-1)\n",
    "y_2 = data.y.where(data.y == 2, other=-1)\n",
    "y_3 = data.y.where(data.y == 3, other=-1)\n",
    "y_4 = data.y.where(data.y == 4, other=-1)"
   ]
  },
  {
   "cell_type": "code",
   "execution_count": 6,
   "metadata": {},
   "outputs": [
    {
     "data": {
      "image/png": "[encoded data removed]",
      "text/plain": [
       "<matplotlib.figure.Figure at 0x20356b3d780>"
      ]
     },
     "metadata": {},
     "output_type": "display_data"
    }
   ],
   "source": [
    "y_list = [y_1, y_2, y_3, y_4]\n",
    "\n",
    "clf = svm.SVC(kernel='linear', C=1000)\n",
    "\n",
    "data_1 = data[data.y == 1]\n",
    "data_2 = data[data.y == 2]\n",
    "data_3 = data[data.y == 3]\n",
    "data_4 = data[data.y == 4]\n",
    "\n",
    "plt.plot(data_1.x1, data_1.x2, 'b+', label='Class 1')\n",
    "plt.plot(data_2.x1, data_2.x2, 'rx', label='Class 2')\n",
    "plt.plot(data_3.x1, data_3.x2, 'g*', label='Class 3')\n",
    "plt.plot(data_4.x1, data_4.x2, 'o', label='Class 4')\n",
    "\n",
    "for i, y_i in enumerate(y_list, start=1):\n",
    "    clf.fit(x, y_i)\n",
    "    \n",
    "    W = clf.coef_[0]\n",
    "    b = clf.intercept_[0]\n",
    "\n",
    "    xx = np.linspace(0, 12)\n",
    "    yy = -b/W[1] - xx*W[0]/W[1]\n",
    "    \n",
    "    for c in range(len(yy)):\n",
    "        if yy[c] < 0:\n",
    "            yy[c] = 0\n",
    "        elif yy[c] > 14:\n",
    "            yy[c] = 14\n",
    "    \n",
    "    plt.plot(xx, yy, label='Decision Boundary ' + str(i))\n",
    "\n",
    "plt.title('Multiclass Support Vector Machine')\n",
    "plt.xlabel('x1')\n",
    "plt.ylabel('x2')\n",
    "#plt.legend()\n",
    "plt.show()"
   ]
  },
  {
   "cell_type": "code",
   "execution_count": null,
   "metadata": {
    "collapsed": true
   },
   "outputs": [],
   "source": []
  }
 ],
 "metadata": {
  "kernelspec": {
   "display_name": "Python 3",
   "language": "python",
   "name": "python3"
  },
  "language_info": {
   "codemirror_mode": {
    "name": "ipython",
    "version": 3
   },
   "file_extension": ".py",
   "mimetype": "text/x-python",
   "name": "python",
   "nbconvert_exporter": "python",
   "pygments_lexer": "ipython3",
   "version": "3.5.4"
  }
 },
 "nbformat": 4,
 "nbformat_minor": 2
}
