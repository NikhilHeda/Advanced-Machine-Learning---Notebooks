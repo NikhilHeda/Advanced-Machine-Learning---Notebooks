{
 "cells": [
  {
   "cell_type": "code",
   "execution_count": 7,
   "metadata": {},
   "outputs": [],
   "source": [
    "import tensorflow as tf\n",
    "import numpy as np\n",
    "\n",
    "import pandas as pd\n",
    "pd.options.mode.chained_assignment = None\n",
    "\n",
    "import matplotlib.pyplot as plt\n",
    "%matplotlib inline"
   ]
  },
  {
   "cell_type": "code",
   "execution_count": 8,
   "metadata": {},
   "outputs": [
    {
     "data": {
      "image/png": "[encoded data removed]",
      "text/plain": [
       "<matplotlib.figure.Figure at 0x2200297cef0>"
      ]
     },
     "metadata": {},
     "output_type": "display_data"
    }
   ],
   "source": [
    "data = pd.read_csv('svm_data.csv', names=['x1', 'x2', 'y'])\n",
    "data_pos = data[data.y == 1]\n",
    "data_neg = data[data.y == -1]\n",
    "\n",
    "plt.plot(data_pos.x1, data_pos.x2, 'b+', label='Positive Samples')\n",
    "plt.plot(data_neg.x1, data_neg.x2, 'rx', label='Negative Samples')\n",
    "plt.legend()\n",
    "plt.show()\n",
    "\n",
    "# Converting all -1 values to 0 for logistic regression\n",
    "data.y[data.y == -1] = 0"
   ]
  },
  {
   "cell_type": "code",
   "execution_count": 9,
   "metadata": {
    "collapsed": true
   },
   "outputs": [],
   "source": [
    "# Preaparing training data\n",
    "train_x = data[['x1', 'x2']]\n",
    "train_y = data['y']\n",
    "\n",
    "X = tf.placeholder(dtype=tf.float32, shape=[None, 2])\n",
    "labels = tf.placeholder(dtype=tf.float32, shape=[None, 1])\n",
    "\n",
    "# Parameters\n",
    "W = tf.Variable(tf.truncated_normal(shape=[2, 1], stddev=0.01), dtype=tf.float32, name='Weights')\n",
    "b = tf.Variable(tf.zeros([1]), dtype=tf.float32, name='Bias')\n",
    "\n",
    "# Constants\n",
    "learning_rate = 0.01\n",
    "epochs = 1500\n",
    "display_batch = 50\n",
    "n_samples = data.shape[0]"
   ]
  },
  {
   "cell_type": "code",
   "execution_count": 10,
   "metadata": {
    "collapsed": true
   },
   "outputs": [],
   "source": [
    "# Computing the logits\n",
    "logits = tf.matmul(X, W) + b\n",
    "hypothesis = tf.nn.sigmoid(logits)\n",
    "\n",
    "# Defining the logistic regression loss function ~ Cross Entropy\n",
    "loss_fn = tf.reduce_mean((-labels * tf.log(hypothesis)) - ((1 - labels) * tf.log(1 - hypothesis)))\n",
    "\n",
    "# Defining the Gradient Descent Optimizer and the training operation\n",
    "optimizer = tf.train.GradientDescentOptimizer(learning_rate)\n",
    "train_op = optimizer.minimize(loss_fn)\n",
    "\n",
    "# Defining the initializer operation\n",
    "init_op = tf.global_variables_initializer()"
   ]
  },
  {
   "cell_type": "code",
   "execution_count": 11,
   "metadata": {},
   "outputs": [
    {
     "name": "stdout",
     "output_type": "stream",
     "text": [
      "Loss at epoch 0: 0.622004\n",
      "Loss at epoch 50: 0.390254\n",
      "Loss at epoch 100: 0.297842\n",
      "Loss at epoch 150: 0.245838\n",
      "Loss at epoch 200: 0.212694\n",
      "Loss at epoch 250: 0.189496\n",
      "Loss at epoch 300: 0.171883\n",
      "Loss at epoch 350: 0.157688\n",
      "Loss at epoch 400: 0.145804\n",
      "Loss at epoch 450: 0.135615\n",
      "Loss at epoch 500: 0.126748\n",
      "Loss at epoch 550: 0.118948\n",
      "Loss at epoch 600: 0.112035\n",
      "Loss at epoch 650: 0.105868\n",
      "Loss at epoch 700: 0.100338\n",
      "Loss at epoch 750: 0.095354\n",
      "Loss at epoch 800: 0.0908428\n",
      "Loss at epoch 850: 0.086743\n",
      "Loss at epoch 900: 0.0830026\n",
      "Loss at epoch 950: 0.0795785\n",
      "Loss at epoch 1000: 0.0764332\n",
      "Loss at epoch 1050: 0.0735341\n",
      "Loss at epoch 1100: 0.0708547\n",
      "Loss at epoch 1150: 0.0683713\n",
      "Loss at epoch 1200: 0.0660642\n",
      "Loss at epoch 1250: 0.0639154\n",
      "Loss at epoch 1300: 0.0619092\n",
      "Loss at epoch 1350: 0.0600314\n",
      "Loss at epoch 1400: 0.0582708\n",
      "Loss at epoch 1450: 0.0566158\n"
     ]
    }
   ],
   "source": [
    "# Starting a session\n",
    "with tf.Session() as sess:\n",
    "    sess.run(init_op)\n",
    "\n",
    "    # Training loop\n",
    "    for epoch in range(epochs):\n",
    "        count = 0\n",
    "        while count < n_samples:\n",
    "            feed_dict = {\n",
    "                X: train_x.iloc[count, :].values.reshape(1, 2),\n",
    "                labels: train_y.iloc[count].reshape(1, 1)\n",
    "            }\n",
    "            sess.run(train_op, feed_dict=feed_dict)\n",
    "            count += 1\n",
    "        \n",
    "        if epoch % display_batch == 0:\n",
    "            feed_dict = {\n",
    "                X: train_x,\n",
    "                labels: train_y.values.reshape(n_samples, 1)\n",
    "            }\n",
    "            \n",
    "            print('Loss at epoch %d: %g' % (epoch, sess.run(loss_fn, feed_dict=feed_dict)))\n",
    "    \n",
    "    weights_learnt = W.eval()\n",
    "    bias_learnt = b.eval()"
   ]
  },
  {
   "cell_type": "code",
   "execution_count": 13,
   "metadata": {},
   "outputs": [
    {
     "data": {
      "image/png": "[encoded data removed]",
      "text/plain": [
       "<matplotlib.figure.Figure at 0x22004745940>"
      ]
     },
     "metadata": {},
     "output_type": "display_data"
    }
   ],
   "source": [
    "plot_x = [min(train_x.iloc[:, 0])-1,  max(train_x.iloc[:, 0])+1]\n",
    "plot_y = (-1 / weights_learnt[1]) * (np.multiply(weights_learnt[0], plot_x) + bias_learnt[0])\n",
    "\n",
    "plt.plot(data_pos.x1, data_pos.x2, 'b+', label='Positive Samples')\n",
    "plt.plot(data_neg.x1, data_neg.x2, 'rx', label='Negative Samples')\n",
    "plt.plot(plot_x, plot_y, '-', label='Decision Boundary')\n",
    "plt.title('Logistic Regression - Decision Boundary')\n",
    "plt.xlabel('x1')\n",
    "plt.ylabel('x2')\n",
    "plt.legend()\n",
    "plt.show()"
   ]
  },
  {
   "cell_type": "code",
   "execution_count": null,
   "metadata": {
    "collapsed": true
   },
   "outputs": [],
   "source": []
  }
 ],
 "metadata": {
  "kernelspec": {
   "display_name": "Python 3",
   "language": "python",
   "name": "python3"
  },
  "language_info": {
   "codemirror_mode": {
    "name": "ipython",
    "version": 3
   },
   "file_extension": ".py",
   "mimetype": "text/x-python",
   "name": "python",
   "nbconvert_exporter": "python",
   "pygments_lexer": "ipython3",
   "version": "3.5.4"
  }
 },
 "nbformat": 4,
 "nbformat_minor": 2
}
