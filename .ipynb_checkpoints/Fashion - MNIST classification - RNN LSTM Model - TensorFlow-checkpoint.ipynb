{
 "cells": [
  {
   "cell_type": "code",
   "execution_count": 1,
   "metadata": {},
   "outputs": [],
   "source": [
    "import tensorflow as tf\n",
    "from tensorflow.contrib import rnn\n",
    "\n",
    "import numpy as np\n",
    "\n",
    "from tqdm import tqdm"
   ]
  },
  {
   "cell_type": "code",
   "execution_count": 2,
   "metadata": {},
   "outputs": [],
   "source": [
    "NUM_EPOCHS = 10\n",
    "BATCH_SIZE = 128\n",
    "\n",
    "CHUNK_SIZE = 28\n",
    "NUM_CHUNK = 28\n",
    "RNN_SIZE = 128\n",
    "\n",
    "NUM_CLASS = 10"
   ]
  },
  {
   "cell_type": "code",
   "execution_count": 3,
   "metadata": {},
   "outputs": [
    {
     "data": {
      "text/plain": [
       "((48000, 28, 28, 1), (48000, 10))"
      ]
     },
     "execution_count": 3,
     "metadata": {},
     "output_type": "execute_result"
    }
   ],
   "source": [
    "train_X, train_y = np.load('data/train_X.npy'), np.load('data/train_y.npy')\n",
    "test_X, test_y = np.load('data/test_X.npy'), np.load('data/test_y.npy')\n",
    "valid_X, valid_y = np.load('data/valid_X.npy'), np.load('data/valid_y.npy')\n",
    "train_X.shape, train_y.shape"
   ]
  },
  {
   "cell_type": "code",
   "execution_count": 4,
   "metadata": {},
   "outputs": [],
   "source": [
    "X = tf.placeholder(tf.float32, [None, NUM_CHUNK, CHUNK_SIZE])\n",
    "y = tf.placeholder(tf.float32)"
   ]
  },
  {
   "cell_type": "code",
   "execution_count": 5,
   "metadata": {},
   "outputs": [],
   "source": [
    "def weight_variable(shape):\n",
    "    weights = tf.truncated_normal(shape, stddev=0.1)\n",
    "    return tf.Variable(weights)\n",
    "\n",
    "def bias_variable(shape):\n",
    "    initial = tf.constant(0.1, shape=shape)\n",
    "    return tf.Variable(initial)"
   ]
  },
  {
   "cell_type": "code",
   "execution_count": 6,
   "metadata": {},
   "outputs": [],
   "source": [
    "def recurrent_neural_network(X):\n",
    "    layer = {\n",
    "        'weights': weight_variable([RNN_SIZE, NUM_CLASS]),\n",
    "        'biases': bias_variable([NUM_CLASS])\n",
    "    }\n",
    "\n",
    "    X = tf.transpose(X, [1, 0, 2])\n",
    "    X = tf.reshape(X, [-1, CHUNK_SIZE])\n",
    "    X = tf.split(X, NUM_CHUNK, 0)\n",
    "\n",
    "    lstm_cell = rnn.BasicLSTMCell(RNN_SIZE)\n",
    "    outputs, states = rnn.static_rnn(lstm_cell, X, dtype=tf.float32)\n",
    "\n",
    "    pred = tf.matmul(outputs[-1], layer['weights']) + layer['biases']\n",
    "    return pred"
   ]
  },
  {
   "cell_type": "code",
   "execution_count": 7,
   "metadata": {},
   "outputs": [],
   "source": [
    "def train():\n",
    "    model = recurrent_neural_network(X)\n",
    "    loss_op = tf.reduce_mean( tf.nn.softmax_cross_entropy_with_logits_v2(labels=y, logits=model))\n",
    "    train_op = tf.train.AdamOptimizer().minimize(loss_op)\n",
    "\n",
    "    # Evaluations\n",
    "    correct_prediction = tf.equal(tf.argmax(model, 1), tf.argmax(y, 1))\n",
    "    accuracy = tf.reduce_mean(tf.cast(correct_prediction, tf.float32))\n",
    "    \n",
    "    init_op = tf.global_variables_initializer()\n",
    "    with tf.Session() as sess:\n",
    "        sess.run(init_op)\n",
    "\n",
    "        for epoch in range(NUM_EPOCHS):\n",
    "            print('Epoch {}'.format(epoch + 1))\n",
    "\n",
    "            for index, offset in tqdm(list(enumerate(range(0, train_X.shape[0], BATCH_SIZE))), ncols=100):\n",
    "                xs, ys = train_X[offset: offset + BATCH_SIZE], train_y[offset: offset + BATCH_SIZE]\n",
    "                xs = xs.reshape((BATCH_SIZE, CHUNK_SIZE, NUM_CHUNK))\n",
    "                sess.run(train_op, feed_dict={ X: xs, y: ys})\n",
    "\n",
    "            train_accuracy = accuracy.eval(feed_dict={\n",
    "                X: train_X.reshape((-1, CHUNK_SIZE, NUM_CHUNK)),\n",
    "                y: train_y\n",
    "            })\n",
    "            validation_accuracy = accuracy.eval(feed_dict={\n",
    "                X: valid_X.reshape((-1, CHUNK_SIZE, NUM_CHUNK)),\n",
    "                y: valid_y\n",
    "            })\n",
    "            print('Training Accuracy: {}%\\nValidation Accuracy: {}%\\n'.format(train_accuracy, validation_accuracy))"
   ]
  },
  {
   "cell_type": "code",
   "execution_count": 8,
   "metadata": {},
   "outputs": [
    {
     "name": "stdout",
     "output_type": "stream",
     "text": [
      "Epoch 1\n"
     ]
    },
    {
     "name": "stderr",
     "output_type": "stream",
     "text": [
      "100%|█████████████████████████████████████████████████████████████| 375/375 [00:28<00:00, 13.27it/s]\n"
     ]
    },
    {
     "name": "stdout",
     "output_type": "stream",
     "text": [
      "Training Accuracy: 0.8253750205039978%\n",
      "Validation Accuracy: 0.8270000219345093%\n",
      "\n",
      "Epoch 2\n"
     ]
    },
    {
     "name": "stderr",
     "output_type": "stream",
     "text": [
      "100%|█████████████████████████████████████████████████████████████| 375/375 [00:29<00:00, 12.90it/s]\n"
     ]
    },
    {
     "name": "stdout",
     "output_type": "stream",
     "text": [
      "Training Accuracy: 0.8412291407585144%\n",
      "Validation Accuracy: 0.8370000123977661%\n",
      "\n",
      "Epoch 3\n"
     ]
    },
    {
     "name": "stderr",
     "output_type": "stream",
     "text": [
      "100%|█████████████████████████████████████████████████████████████| 375/375 [00:28<00:00, 13.14it/s]\n"
     ]
    },
    {
     "name": "stdout",
     "output_type": "stream",
     "text": [
      "Training Accuracy: 0.8569999933242798%\n",
      "Validation Accuracy: 0.8515833616256714%\n",
      "\n",
      "Epoch 4\n"
     ]
    },
    {
     "name": "stderr",
     "output_type": "stream",
     "text": [
      "100%|█████████████████████████████████████████████████████████████| 375/375 [00:28<00:00, 13.03it/s]\n"
     ]
    },
    {
     "name": "stdout",
     "output_type": "stream",
     "text": [
      "Training Accuracy: 0.8658541440963745%\n",
      "Validation Accuracy: 0.8600833415985107%\n",
      "\n",
      "Epoch 5\n"
     ]
    },
    {
     "name": "stderr",
     "output_type": "stream",
     "text": [
      "100%|█████████████████████████████████████████████████████████████| 375/375 [00:28<00:00, 13.25it/s]\n"
     ]
    },
    {
     "name": "stdout",
     "output_type": "stream",
     "text": [
      "Training Accuracy: 0.8705624938011169%\n",
      "Validation Accuracy: 0.8627499938011169%\n",
      "\n",
      "Epoch 6\n"
     ]
    },
    {
     "name": "stderr",
     "output_type": "stream",
     "text": [
      "100%|█████████████████████████████████████████████████████████████| 375/375 [00:28<00:00, 13.22it/s]\n"
     ]
    },
    {
     "name": "stdout",
     "output_type": "stream",
     "text": [
      "Training Accuracy: 0.8716874718666077%\n",
      "Validation Accuracy: 0.8647500276565552%\n",
      "\n",
      "Epoch 7\n"
     ]
    },
    {
     "name": "stderr",
     "output_type": "stream",
     "text": [
      "100%|█████████████████████████████████████████████████████████████| 375/375 [00:27<00:00, 13.49it/s]\n"
     ]
    },
    {
     "name": "stdout",
     "output_type": "stream",
     "text": [
      "Training Accuracy: 0.8760833144187927%\n",
      "Validation Accuracy: 0.8705000281333923%\n",
      "\n",
      "Epoch 8\n"
     ]
    },
    {
     "name": "stderr",
     "output_type": "stream",
     "text": [
      "100%|█████████████████████████████████████████████████████████████| 375/375 [00:29<00:00, 12.84it/s]\n"
     ]
    },
    {
     "name": "stdout",
     "output_type": "stream",
     "text": [
      "Training Accuracy: 0.8817916512489319%\n",
      "Validation Accuracy: 0.8736666440963745%\n",
      "\n",
      "Epoch 9\n"
     ]
    },
    {
     "name": "stderr",
     "output_type": "stream",
     "text": [
      "100%|█████████████████████████████████████████████████████████████| 375/375 [00:28<00:00, 13.28it/s]\n"
     ]
    },
    {
     "name": "stdout",
     "output_type": "stream",
     "text": [
      "Training Accuracy: 0.8832708597183228%\n",
      "Validation Accuracy: 0.8759999871253967%\n",
      "\n",
      "Epoch 10\n"
     ]
    },
    {
     "name": "stderr",
     "output_type": "stream",
     "text": [
      "100%|█████████████████████████████████████████████████████████████| 375/375 [00:28<00:00, 13.05it/s]\n"
     ]
    },
    {
     "name": "stdout",
     "output_type": "stream",
     "text": [
      "Training Accuracy: 0.8871874809265137%\n",
      "Validation Accuracy: 0.8793333172798157%\n",
      "\n"
     ]
    }
   ],
   "source": [
    "train()"
   ]
  },
  {
   "cell_type": "code",
   "execution_count": null,
   "metadata": {},
   "outputs": [],
   "source": []
  }
 ],
 "metadata": {
  "kernelspec": {
   "display_name": "Python 3",
   "language": "python",
   "name": "python3"
  },
  "language_info": {
   "codemirror_mode": {
    "name": "ipython",
    "version": 3
   },
   "file_extension": ".py",
   "mimetype": "text/x-python",
   "name": "python",
   "nbconvert_exporter": "python",
   "pygments_lexer": "ipython3",
   "version": "3.5.4"
  }
 },
 "nbformat": 4,
 "nbformat_minor": 2
}
