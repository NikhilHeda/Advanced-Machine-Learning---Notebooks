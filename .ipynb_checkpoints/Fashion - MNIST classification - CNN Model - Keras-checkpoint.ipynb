{
 "cells": [
  {
   "cell_type": "code",
   "execution_count": 1,
   "metadata": {},
   "outputs": [
    {
     "name": "stderr",
     "output_type": "stream",
     "text": [
      "Using TensorFlow backend.\n"
     ]
    }
   ],
   "source": [
    "from keras.datasets import fashion_mnist\n",
    "\n",
    "# Keras Model\n",
    "from keras.models import Sequential\n",
    "\n",
    "# Keras Layers\n",
    "from keras.layers import Conv2D, LeakyReLU, MaxPooling2D, Flatten, Dense, Dropout\n",
    "\n",
    "# Keras Optimizer and loss\n",
    "from keras.optimizers import Adam\n",
    "from keras.losses import categorical_crossentropy\n",
    "\n",
    "# Keras utils\n",
    "from keras.utils import to_categorical\n",
    "\n",
    "# Train-dev-test split\n",
    "from sklearn.model_selection import train_test_split"
   ]
  },
  {
   "cell_type": "code",
   "execution_count": 2,
   "metadata": {
    "collapsed": true
   },
   "outputs": [],
   "source": [
    "(train_X, train_Y), (test_X, test_Y) = fashion_mnist.load_data()"
   ]
  },
  {
   "cell_type": "code",
   "execution_count": 3,
   "metadata": {},
   "outputs": [
    {
     "data": {
      "text/plain": [
       "((60000, 28, 28), (60000,))"
      ]
     },
     "execution_count": 3,
     "metadata": {},
     "output_type": "execute_result"
    }
   ],
   "source": [
    "train_X.shape, train_Y.shape"
   ]
  },
  {
   "cell_type": "code",
   "execution_count": 4,
   "metadata": {},
   "outputs": [
    {
     "name": "stdout",
     "output_type": "stream",
     "text": [
      "(60000, 10) (10000, 10)\n",
      "(60000, 28, 28, 1)\n"
     ]
    }
   ],
   "source": [
    "# Preparing data for CNN model\n",
    "train_X = train_X.astype('float32')\n",
    "test_X = test_X.astype('float32')\n",
    "train_X = train_X / 255\n",
    "test_X = test_X / 255\n",
    "\n",
    "# Converting train_Y and test_Y to 1-hot vectors\n",
    "train_Y_one_hot = to_categorical(train_Y)\n",
    "test_Y_one_hot = to_categorical(test_Y)\n",
    "print(train_Y_one_hot.shape, test_Y_one_hot.shape)\n",
    "\n",
    "# Image Shapes\n",
    "train_X_processed = train_X.reshape([-1, 28, 28, 1])\n",
    "print(train_X_processed.shape)"
   ]
  },
  {
   "cell_type": "code",
   "execution_count": 5,
   "metadata": {
    "collapsed": true
   },
   "outputs": [],
   "source": [
    "# Validation data\n",
    "train_X_split, valid_X_split, train_Y_split, valid_Y_split = train_test_split(train_X_processed, train_Y_one_hot, test_size=0.2)"
   ]
  },
  {
   "cell_type": "code",
   "execution_count": 6,
   "metadata": {},
   "outputs": [
    {
     "data": {
      "text/plain": [
       "((48000, 28, 28, 1), (48000, 10))"
      ]
     },
     "execution_count": 6,
     "metadata": {},
     "output_type": "execute_result"
    }
   ],
   "source": [
    "train_X_split.shape, train_Y_split.shape"
   ]
  },
  {
   "cell_type": "code",
   "execution_count": 7,
   "metadata": {},
   "outputs": [
    {
     "name": "stdout",
     "output_type": "stream",
     "text": [
      "_________________________________________________________________\n",
      "Layer (type)                 Output Shape              Param #   \n",
      "=================================================================\n",
      "conv2d_1 (Conv2D)            (None, 28, 28, 8)         80        \n",
      "_________________________________________________________________\n",
      "leaky_re_lu_1 (LeakyReLU)    (None, 28, 28, 8)         0         \n",
      "_________________________________________________________________\n",
      "max_pooling2d_1 (MaxPooling2 (None, 14, 14, 8)         0         \n",
      "_________________________________________________________________\n",
      "conv2d_2 (Conv2D)            (None, 14, 14, 16)        1168      \n",
      "_________________________________________________________________\n",
      "leaky_re_lu_2 (LeakyReLU)    (None, 14, 14, 16)        0         \n",
      "_________________________________________________________________\n",
      "max_pooling2d_2 (MaxPooling2 (None, 7, 7, 16)          0         \n",
      "_________________________________________________________________\n",
      "conv2d_3 (Conv2D)            (None, 7, 7, 32)          4640      \n",
      "_________________________________________________________________\n",
      "leaky_re_lu_3 (LeakyReLU)    (None, 7, 7, 32)          0         \n",
      "_________________________________________________________________\n",
      "max_pooling2d_3 (MaxPooling2 (None, 4, 4, 32)          0         \n",
      "_________________________________________________________________\n",
      "flatten_1 (Flatten)          (None, 512)               0         \n",
      "_________________________________________________________________\n",
      "dense_1 (Dense)              (None, 128)               65664     \n",
      "_________________________________________________________________\n",
      "leaky_re_lu_4 (LeakyReLU)    (None, 128)               0         \n",
      "_________________________________________________________________\n",
      "dense_2 (Dense)              (None, 10)                1290      \n",
      "=================================================================\n",
      "Total params: 72,842\n",
      "Trainable params: 72,842\n",
      "Non-trainable params: 0\n",
      "_________________________________________________________________\n"
     ]
    }
   ],
   "source": [
    "# Building the CNN Model\n",
    "\n",
    "model = Sequential()\n",
    "\n",
    "# CONV + MAX POOL\n",
    "model.add(Conv2D(8, (3, 3), activation='linear', padding='SAME', input_shape=[28, 28, 1]))\n",
    "model.add(LeakyReLU(alpha=0.1))\n",
    "model.add(MaxPooling2D((2, 2), strides=2, padding='SAME'))\n",
    "\n",
    "model.add(Conv2D(16, (3, 3), activation='linear', padding='SAME'))\n",
    "model.add(LeakyReLU(alpha=0.1))\n",
    "model.add(MaxPooling2D((2, 2), strides=2, padding='SAME'))\n",
    "\n",
    "model.add(Conv2D(32, (3, 3), activation='linear', padding='SAME'))\n",
    "model.add(LeakyReLU(alpha=0.1))\n",
    "model.add(MaxPooling2D((2, 2), strides=2, padding='SAME'))\n",
    "model.add(Flatten())\n",
    "\n",
    "model.add(Dense(128, activation='linear'))\n",
    "model.add(LeakyReLU(alpha=0.1))\n",
    "model.add(Dense(10, activation='softmax'))\n",
    "\n",
    "model.summary()"
   ]
  },
  {
   "cell_type": "code",
   "execution_count": 8,
   "metadata": {
    "collapsed": true
   },
   "outputs": [],
   "source": [
    "model.compile(optimizer=Adam(), loss=categorical_crossentropy, metrics=['accuracy'])"
   ]
  },
  {
   "cell_type": "code",
   "execution_count": 9,
   "metadata": {
    "scrolled": false
   },
   "outputs": [
    {
     "name": "stdout",
     "output_type": "stream",
     "text": [
      "Train on 48000 samples, validate on 12000 samples\n",
      "Epoch 1/20\n",
      "48000/48000 [==============================] - 47s 988us/step - loss: 0.5651 - acc: 0.7939 - val_loss: 0.3858 - val_acc: 0.8613\n",
      "Epoch 2/20\n",
      "48000/48000 [==============================] - 47s 971us/step - loss: 0.3677 - acc: 0.8654 - val_loss: 0.3846 - val_acc: 0.8562\n",
      "Epoch 3/20\n",
      "48000/48000 [==============================] - 48s 991us/step - loss: 0.3223 - acc: 0.8816 - val_loss: 0.3444 - val_acc: 0.8757\n",
      "Epoch 4/20\n",
      "48000/48000 [==============================] - 43s 906us/step - loss: 0.2942 - acc: 0.8922 - val_loss: 0.2875 - val_acc: 0.8925\n",
      "Epoch 5/20\n",
      "48000/48000 [==============================] - 42s 883us/step - loss: 0.2729 - acc: 0.8980 - val_loss: 0.2777 - val_acc: 0.8976\n",
      "Epoch 6/20\n",
      "48000/48000 [==============================] - 52s 1ms/step - loss: 0.2561 - acc: 0.9052 - val_loss: 0.2881 - val_acc: 0.8920\n",
      "Epoch 7/20\n",
      "48000/48000 [==============================] - 50s 1ms/step - loss: 0.2414 - acc: 0.9102 - val_loss: 0.2723 - val_acc: 0.8991\n",
      "Epoch 8/20\n",
      "48000/48000 [==============================] - 48s 995us/step - loss: 0.2283 - acc: 0.9145 - val_loss: 0.2477 - val_acc: 0.9097\n",
      "Epoch 9/20\n",
      "48000/48000 [==============================] - 43s 886us/step - loss: 0.2154 - acc: 0.9206 - val_loss: 0.2464 - val_acc: 0.9112\n",
      "Epoch 10/20\n",
      "48000/48000 [==============================] - 44s 920us/step - loss: 0.2065 - acc: 0.9232 - val_loss: 0.2529 - val_acc: 0.9076\n",
      "Epoch 11/20\n",
      "48000/48000 [==============================] - 71s 1ms/step - loss: 0.1948 - acc: 0.9266 - val_loss: 0.2509 - val_acc: 0.9077\n",
      "Epoch 12/20\n",
      "48000/48000 [==============================] - 76s 2ms/step - loss: 0.1851 - acc: 0.9308 - val_loss: 0.2454 - val_acc: 0.9135\n",
      "Epoch 13/20\n",
      "48000/48000 [==============================] - 57s 1ms/step - loss: 0.1731 - acc: 0.9348 - val_loss: 0.2477 - val_acc: 0.9131\n",
      "Epoch 14/20\n",
      "48000/48000 [==============================] - 51s 1ms/step - loss: 0.1653 - acc: 0.9370 - val_loss: 0.2725 - val_acc: 0.9029\n",
      "Epoch 15/20\n",
      "48000/48000 [==============================] - 54s 1ms/step - loss: 0.1569 - acc: 0.9407 - val_loss: 0.2597 - val_acc: 0.9132\n",
      "Epoch 16/20\n",
      "48000/48000 [==============================] - 52s 1ms/step - loss: 0.1491 - acc: 0.9434 - val_loss: 0.2333 - val_acc: 0.9173\n",
      "Epoch 17/20\n",
      "48000/48000 [==============================] - 52s 1ms/step - loss: 0.1413 - acc: 0.9465 - val_loss: 0.2518 - val_acc: 0.9143\n",
      "Epoch 18/20\n",
      "48000/48000 [==============================] - 52s 1ms/step - loss: 0.1335 - acc: 0.9494 - val_loss: 0.2603 - val_acc: 0.9100\n",
      "Epoch 19/20\n",
      "48000/48000 [==============================] - 52s 1ms/step - loss: 0.1263 - acc: 0.9525 - val_loss: 0.2666 - val_acc: 0.9134\n",
      "Epoch 20/20\n",
      "48000/48000 [==============================] - 52s 1ms/step - loss: 0.1198 - acc: 0.9556 - val_loss: 0.2756 - val_acc: 0.9112\n"
     ]
    },
    {
     "data": {
      "text/plain": [
       "<keras.callbacks.History at 0x266272e35f8>"
      ]
     },
     "execution_count": 9,
     "metadata": {},
     "output_type": "execute_result"
    }
   ],
   "source": [
    "BATCH_SIZE = 64\n",
    "EPOCHS = 20\n",
    "model.fit(train_X_split, train_Y_split, batch_size=BATCH_SIZE, epochs=EPOCHS, validation_data=(valid_X_split, valid_Y_split))"
   ]
  },
  {
   "cell_type": "code",
   "execution_count": null,
   "metadata": {
    "collapsed": true
   },
   "outputs": [],
   "source": []
  }
 ],
 "metadata": {
  "kernelspec": {
   "display_name": "Python 3",
   "language": "python",
   "name": "python3"
  },
  "language_info": {
   "codemirror_mode": {
    "name": "ipython",
    "version": 3
   },
   "file_extension": ".py",
   "mimetype": "text/x-python",
   "name": "python",
   "nbconvert_exporter": "python",
   "pygments_lexer": "ipython3",
   "version": "3.5.4"
  }
 },
 "nbformat": 4,
 "nbformat_minor": 2
}
