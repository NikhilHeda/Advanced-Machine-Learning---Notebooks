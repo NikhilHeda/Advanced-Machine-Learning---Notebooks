{
 "cells": [
  {
   "cell_type": "code",
   "execution_count": 1,
   "metadata": {
    "collapsed": true
   },
   "outputs": [],
   "source": [
    "import tensorflow as tf\n",
    "import pandas as pd\n",
    "import numpy as np\n",
    "import matplotlib.pyplot as plt\n",
    "\n",
    "%matplotlib inline"
   ]
  },
  {
   "cell_type": "code",
   "execution_count": 2,
   "metadata": {},
   "outputs": [
    {
     "data": {
      "text/plain": [
       "<matplotlib.axes._subplots.AxesSubplot at 0x226cd34f710>"
      ]
     },
     "execution_count": 2,
     "metadata": {},
     "output_type": "execute_result"
    },
    {
     "data": {
      "image/png": "[encoded data removed]",
      "text/plain": [
       "<matplotlib.figure.Figure at 0x226cd338dd8>"
      ]
     },
     "metadata": {},
     "output_type": "display_data"
    }
   ],
   "source": [
    "data = pd.read_csv('LR.csv', names=['x', 'y'])\n",
    "data.plot(x='x', y='y', kind='scatter')"
   ]
  },
  {
   "cell_type": "code",
   "execution_count": 3,
   "metadata": {},
   "outputs": [],
   "source": [
    "# Preparing Training data\n",
    "train_x = data.x\n",
    "train_y = data.y\n",
    "\n",
    "X = tf.placeholder(dtype=tf.float32)\n",
    "y_ = tf.placeholder(dtype=tf.float32)\n",
    "\n",
    "# Parameters\n",
    "W = tf.Variable(1, dtype=tf.float32, name='Weights')\n",
    "b = tf.Variable(1, dtype=tf.float32, name='Bias')\n",
    "\n",
    "# Constants\n",
    "learning_rate = 0.001\n",
    "epochs = 1000\n",
    "display_batch = 50\n",
    "n_samples = data.shape[0]"
   ]
  },
  {
   "cell_type": "code",
   "execution_count": 4,
   "metadata": {},
   "outputs": [],
   "source": [
    "# Computing the logits\n",
    "y = (W * X + b)\n",
    "\n",
    "# Defining the loss function\n",
    "loss_fn = tf.reduce_sum(tf.pow((y - y_), 2)) / (2 * n_samples)\n",
    "\n",
    "# Defining Gradient Descent Optimizer and the loss operation\n",
    "optimizer = tf.train.GradientDescentOptimizer(learning_rate)\n",
    "loss_op = optimizer.minimize(loss_fn)\n",
    "\n",
    "# Defining the initializer operation\n",
    "init_op = tf.global_variables_initializer()"
   ]
  },
  {
   "cell_type": "code",
   "execution_count": 5,
   "metadata": {},
   "outputs": [
    {
     "name": "stdout",
     "output_type": "stream",
     "text": [
      "1.94181\n",
      "1.888\n",
      "1.86592\n",
      "1.85265\n",
      "1.84201\n",
      "1.83233\n",
      "1.82317\n",
      "1.81439\n",
      "1.80593\n",
      "1.79778\n",
      "1.78994\n",
      "1.78238\n",
      "1.7751\n",
      "1.76809\n",
      "1.76132\n",
      "1.75481\n",
      "1.74854\n",
      "1.74249\n",
      "1.73666\n",
      "1.73105\n"
     ]
    }
   ],
   "source": [
    "# Starting the Session\n",
    "with tf.Session() as sess:\n",
    "    sess.run(init_op)\n",
    "    \n",
    "    # Training loop\n",
    "    for epoch in range(epochs):\n",
    "        count = 0\n",
    "        while count < n_samples:\n",
    "            sess.run(loss_op, feed_dict={X:train_x[count], y_:train_y[count]})\n",
    "            count += 1\n",
    "        \n",
    "        if epoch % display_batch == 0:\n",
    "            print(loss_fn.eval(feed_dict={X:train_x, y_:train_y}))\n",
    "    \n",
    "    # Learnt parameters\n",
    "    weight_learnt = W.eval()\n",
    "    bias_learnt = b.eval()"
   ]
  },
  {
   "cell_type": "code",
   "execution_count": 17,
   "metadata": {},
   "outputs": [
    {
     "data": {
      "image/png": "[encoded data removed]",
      "text/plain": [
       "<matplotlib.figure.Figure at 0x226ce2e3940>"
      ]
     },
     "metadata": {},
     "output_type": "display_data"
    }
   ],
   "source": [
    "plot_x = np.array([min(train_x), max(train_x)])\n",
    "plot_y = np.multiply(weight_learnt, plot_x) + bias_learnt\n",
    "\n",
    "plt.plot(train_x, train_y, 'r+', label='Data Points')\n",
    "plt.plot(plot_x, plot_y, '-', label='Regression Line')\n",
    "plt.legend()\n",
    "plt.show()"
   ]
  },
  {
   "cell_type": "code",
   "execution_count": null,
   "metadata": {},
   "outputs": [],
   "source": []
  },
  {
   "cell_type": "code",
   "execution_count": null,
   "metadata": {
    "collapsed": true
   },
   "outputs": [],
   "source": []
  }
 ],
 "metadata": {
  "kernelspec": {
   "display_name": "Python 3",
   "language": "python",
   "name": "python3"
  },
  "language_info": {
   "codemirror_mode": {
    "name": "ipython",
    "version": 3
   },
   "file_extension": ".py",
   "mimetype": "text/x-python",
   "name": "python",
   "nbconvert_exporter": "python",
   "pygments_lexer": "ipython3",
   "version": "3.5.4"
  }
 },
 "nbformat": 4,
 "nbformat_minor": 2
}
